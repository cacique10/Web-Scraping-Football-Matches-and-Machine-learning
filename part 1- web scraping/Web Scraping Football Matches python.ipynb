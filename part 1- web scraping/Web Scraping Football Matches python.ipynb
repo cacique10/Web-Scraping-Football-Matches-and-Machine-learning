{
 "cells": [
  {
   "cell_type": "code",
   "execution_count": null,
   "id": "c97845f1",
   "metadata": {},
   "outputs": [],
   "source": [
    "import requests\n",
    "from bs4 import BeautifulSoup\n",
    "import pandas as pd\n",
    "import html5lib\n",
    "import time\n",
    "\n",
    "standings_url= 'https://fbref.com/en/comps/9/Premier-League-Stats'\n",
    "#standings_url\n",
    "\n",
    "data = requests.get(standings_url)\n",
    "#data\n",
    "#data.text\n",
    "\n",
    "soup = BeautifulSoup(data.text)\n",
    "#soup\n",
    "\n",
    "\n",
    "\n",
    "# getting table with matches and links\n",
    "standings_table=soup.select('table.stats_table')[0]\n",
    "#standings_table"
   ]
  },
  {
   "cell_type": "code",
   "execution_count": null,
   "id": "b88c9a3c",
   "metadata": {},
   "outputs": [],
   "source": [
    "links = standings_table.find_all('a')\n",
    "#print(links)\n",
    "\n",
    "# loop through 'a' elements and find 'href'\n",
    "links = [l.get('href') for l in links]\n",
    "\n",
    "\n",
    "# loop through links selected and get only team names, checking if contains substring in href string\n",
    "links = [l for l in links if '/squads/' in l]\n",
    "links"
   ]
  },
  {
   "cell_type": "code",
   "execution_count": null,
   "id": "81267b40",
   "metadata": {},
   "outputs": [],
   "source": [
    "# add string for each link for complete url\n",
    "team_urls = [f\"https://fbref.com{l}\" for l in links]\n",
    "team_urls"
   ]
  },
  {
   "cell_type": "code",
   "execution_count": null,
   "id": "42205f06",
   "metadata": {},
   "outputs": [],
   "source": [
    "team_url = team_urls[0]\n",
    "\n",
    "data = requests.get(team_url)\n",
    "#data.text"
   ]
  },
  {
   "cell_type": "code",
   "execution_count": null,
   "id": "0ef73c74",
   "metadata": {},
   "outputs": [],
   "source": [
    "\n",
    "# read all tables on page and look for substring inside the string\n",
    "matches = pd.read_html(data.text, match=\"Scores & Fixtures\")\n",
    "matches[0].head()"
   ]
  },
  {
   "cell_type": "code",
   "execution_count": null,
   "id": "6fff9548",
   "metadata": {},
   "outputs": [],
   "source": [
    "\n",
    "# getting SHOOTING data\n",
    "soup= BeautifulSoup(data.text)\n",
    "links=soup.find_all('a')\n",
    "\n",
    "links = [l.get('href') for l in links]\n",
    "\n",
    "links = [l for l in links if l and 'all_comps/shooting/' in l]\n",
    "\n",
    "links"
   ]
  },
  {
   "cell_type": "code",
   "execution_count": null,
   "id": "893eeefc",
   "metadata": {},
   "outputs": [],
   "source": [
    "# add url format to desired link\n",
    "data = requests.get(f\"https://fbref.com{links[0]}\")\n",
    "#data.text\n",
    "\n",
    "shooting = pd.read_html(data.text, match=\"Shooting\")[0]\n",
    "#shooting.head()\n",
    "\n",
    "# drop one header\n",
    "shooting.columns = shooting.columns.droplevel()\n",
    "shooting.head()"
   ]
  },
  {
   "cell_type": "code",
   "execution_count": null,
   "id": "30f407ed",
   "metadata": {},
   "outputs": [],
   "source": [
    "# combining two tables on Date information\n",
    "team_data = matches[0].merge(shooting[[\"Date\", \"Sh\", \"SoT\", \"Dist\", \"FK\", \"PK\", \"PKatt\"]], on=\"Date\")\n",
    "#team_data.head()\n"
   ]
  },
  {
   "cell_type": "code",
   "execution_count": null,
   "id": "20f91add",
   "metadata": {},
   "outputs": [],
   "source": [
    "# list of years\n"
   ]
  },
  {
   "cell_type": "code",
   "execution_count": null,
   "id": "73b7d9b2",
   "metadata": {},
   "outputs": [],
   "source": [
    "\n",
    "years = list(range(2022, 2020, -1))\n",
    "\n",
    "#years \n",
    "\n",
    "all_matches = []\n",
    "\n",
    "standings_url = \"https://fbref.com/en/comps/9/Premier-League-Stats\"\n",
    "\n",
    "\n",
    "# loop through years; combining code\n",
    "\n",
    "for year in years:\n",
    "    data = requests.get(standings_url)\n",
    "    soup = BeautifulSoup(data.text)\n",
    "    standings_table = soup.select('table.stats_table')[0]\n",
    "    \n",
    "    links = [l.get('href') for l in standings_table.find_all('a')]\n",
    "    links = [l for l in links if l and '/squads/' in l]\n",
    "    team_urls = [f\"https://fbref.com{l}\" for l in links]\n",
    "    \n",
    "    # getting previous season link for scraping\n",
    "    previous_season = soup.select('a.prev')[0].get('href')\n",
    "    standings_url = f'https://fbref.com{previous_season}'\n",
    "    \n",
    "    # splicing data, keeping only team name\n",
    "    for team_urls in team_urls:\n",
    "        team_name = team_url.split('/')[-1].replace('-Stats', '').replace('-',' ')\n",
    "        \n",
    "        data = requests.get(team_url)\n",
    "        matches = pd.read_html(data.text, match=\"Scores & Fixtures\")[0]\n",
    "        \n",
    "        soup = BeautifulSoup(data.text)\n",
    "        links = [l.get('href') for l in soup.find_all('a')]\n",
    "        links = [l for l in links if l and 'all_comps/shooting/' in l]\n",
    "        \n",
    "        data = requests.get(f\"https://fbref.com{links[0]}\")\n",
    "        shooting = pd.read_html(data.text, match=\"Shooting\")[0]\n",
    "        shooting.columns = shooting.columns.droplevel()\n",
    "        \n",
    "        try:\n",
    "            team_data = matches.merge(shooting[[\"Date\", \"Sh\", \"SoT\", \"Dist\", \"FK\", \"PK\", \"PKatt\"]], on=\"Date\")\n",
    "        except ValueError:\n",
    "            continue\n",
    "            \n",
    "        team_data = team_data[team_data[\"Comp\"]=='Premier League']\n",
    "        team_data[\"Season\"] = year\n",
    "        team_data[\"Team\"] = team_name\n",
    "        all_matches.append(team_data)\n",
    "        time.sleep(1)\n",
    "\n",
    "\n",
    "    \n",
    "    \n",
    "#team_urls\n",
    "#team_url\n",
    "#team_url.split('/')[-1].replace('-Stats', '').replace('-',' ')"
   ]
  },
  {
   "cell_type": "code",
   "execution_count": null,
   "id": "94ee0e00",
   "metadata": {},
   "outputs": [],
   "source": [
    "# agregating dataframes in one\n",
    "match_df = pd.concat(all_matches)\n",
    "\n",
    "# lowering characters, just in case\n",
    "match_df.columns = [c.lower() for c in match_df.columns]\n",
    "match_df\n",
    "\n",
    "match_df.to_csv(\"matches.csv\")"
   ]
  },
  {
   "cell_type": "code",
   "execution_count": null,
   "id": "35adc812",
   "metadata": {},
   "outputs": [],
   "source": []
  }
 ],
 "metadata": {
  "kernelspec": {
   "display_name": "Python 3 (ipykernel)",
   "language": "python",
   "name": "python3"
  },
  "language_info": {
   "codemirror_mode": {
    "name": "ipython",
    "version": 3
   },
   "file_extension": ".py",
   "mimetype": "text/x-python",
   "name": "python",
   "nbconvert_exporter": "python",
   "pygments_lexer": "ipython3",
   "version": "3.11.5"
  }
 },
 "nbformat": 4,
 "nbformat_minor": 5
}
